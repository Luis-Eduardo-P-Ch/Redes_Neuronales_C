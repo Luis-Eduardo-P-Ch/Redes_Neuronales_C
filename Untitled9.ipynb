{
  "nbformat": 4,
  "nbformat_minor": 0,
  "metadata": {
    "colab": {
      "provenance": [],
      "authorship_tag": "ABX9TyM0JdNnSKITKchNTNsmtTE5",
      "include_colab_link": true
    },
    "kernelspec": {
      "name": "python3",
      "display_name": "Python 3"
    },
    "language_info": {
      "name": "python"
    }
  },
  "cells": [
    {
      "cell_type": "markdown",
      "metadata": {
        "id": "view-in-github",
        "colab_type": "text"
      },
      "source": [
        "<a href=\"https://colab.research.google.com/github/Luis-Eduardo-P-Ch/Redes_Neuronales_C/blob/main/Untitled9.ipynb\" target=\"_parent\"><img src=\"https://colab.research.google.com/assets/colab-badge.svg\" alt=\"Open In Colab\"/></a>"
      ]
    },
    {
      "cell_type": "code",
      "execution_count": 1,
      "metadata": {
        "id": "qNcgtD03wHtc"
      },
      "outputs": [],
      "source": [
        "import tensorflow as tf\n",
        "import numpy as np"
      ]
    },
    {
      "cell_type": "code",
      "source": [
        "celsius = np.array([-40, -10, 0, 8, 15, 22, 38], dtype = float)\n",
        "fahrenheit = np.array([-40, 14, 32, 46, 59, 72, 100], dtype=float)\n",
        "fahrenheit"
      ],
      "metadata": {
        "colab": {
          "base_uri": "https://localhost:8080/"
        },
        "id": "fbpZezbWwTAH",
        "outputId": "d8738574-c6ad-4450-cad1-b72eda8b3ca2"
      },
      "execution_count": 3,
      "outputs": [
        {
          "output_type": "execute_result",
          "data": {
            "text/plain": [
              "array([-40.,  14.,  32.,  46.,  59.,  72., 100.])"
            ]
          },
          "metadata": {},
          "execution_count": 3
        }
      ]
    },
    {
      "cell_type": "code",
      "source": [
        "capa = tf.keras.layers.Dense(units=1, input_shape=[1])\n",
        "modelo = tf.keras.Sequential([capa])"
      ],
      "metadata": {
        "id": "Iov4zs8QxYpM"
      },
      "execution_count": 4,
      "outputs": []
    },
    {
      "cell_type": "code",
      "source": [
        "#Especificacmos la capa de salida con Keras\n",
        "capa = tf.keras.layers.Dense(units=1, input_shape=[1])\n",
        "modelo = tf.keras.Sequential([capa])\n"
      ],
      "metadata": {
        "id": "rMqjvBU9xq-N"
      },
      "execution_count": 5,
      "outputs": []
    },
    {
      "cell_type": "code",
      "source": [
        "#Preparamos el modelos para ser entrenardo\n",
        "\n",
        "modelo.compile(\n",
        "    optimizer=tf.keras.optimizers.Adam(0.1),\n",
        "    loss='mean_squared_error'\n",
        ")"
      ],
      "metadata": {
        "id": "oNy0nEdTzdSD"
      },
      "execution_count": 6,
      "outputs": []
    },
    {
      "cell_type": "code",
      "source": [
        "# Entrenamos el modelo\n",
        "\n",
        "print(\"Comenzando entrenamiento...\")\n",
        "historial = modelo.fit(celsius, fahrenheit, epochs= 1000, verbose=False)\n",
        "print(\"Modelo entrenado!\")"
      ],
      "metadata": {
        "colab": {
          "base_uri": "https://localhost:8080/"
        },
        "id": "F99iwcmV0I3H",
        "outputId": "ed7b6e9c-0e21-4ed7-c25b-b28e98bb1d4c"
      },
      "execution_count": 7,
      "outputs": [
        {
          "output_type": "stream",
          "name": "stdout",
          "text": [
            "Comenzando entrenamiento...\n",
            "Modelo entrenado!\n"
          ]
        }
      ]
    },
    {
      "cell_type": "code",
      "source": [
        "# Una vez entrenado, esta listo para hacer predicciones pero antes veamos la funcion de perdida.\n",
        "import matplotlib.pyplot as plt\n",
        "plt.xlabel(\" # Epoca\")\n",
        "plt.ylabel(\"Magnitud de perdida\")\n",
        "plt.plot(historial.history[\"loss\"])"
      ],
      "metadata": {
        "colab": {
          "base_uri": "https://localhost:8080/",
          "height": 466
        },
        "id": "GkJe-NZR0gxV",
        "outputId": "be828440-e624-4a59-b4fe-763da8fc586d"
      },
      "execution_count": 8,
      "outputs": [
        {
          "output_type": "execute_result",
          "data": {
            "text/plain": [
              "[<matplotlib.lines.Line2D at 0x7e0e2840cb20>]"
            ]
          },
          "metadata": {},
          "execution_count": 8
        },
        {
          "output_type": "display_data",
          "data": {
            "text/plain": [
              "<Figure size 640x480 with 1 Axes>"
            ],
            "image/png": "[encoded data removed]"
          },
          "metadata": {}
        }
      ]
    },
    {
      "cell_type": "code",
      "source": [
        "#Hagamos una predicción\n",
        "print(\"Hagamos na prediccion\")\n",
        "resultado = modelo.predict([100.0])\n",
        "print(\"El resultado es\" + str(resultado)+ \"fahrenheit\")"
      ],
      "metadata": {
        "colab": {
          "base_uri": "https://localhost:8080/"
        },
        "id": "HvTWpTt-4eoj",
        "outputId": "fa085c29-1de3-460e-9c3f-10cfe346831d"
      },
      "execution_count": 9,
      "outputs": [
        {
          "output_type": "stream",
          "name": "stdout",
          "text": [
            "Hagamos na prediccion\n",
            "1/1 [==============================] - 0s 91ms/step\n",
            "El resultado es[[211.74306]]fahrenheit\n"
          ]
        }
      ]
    },
    {
      "cell_type": "code",
      "source": [
        "# Veamos la estructra interna de la red, es decir, que datos se asignaron despues del entrenamiento a la conexion y el sesgo\n",
        "print(capa.get_weights())"
      ],
      "metadata": {
        "colab": {
          "base_uri": "https://localhost:8080/"
        },
        "id": "uhZQwAE24_Rn",
        "outputId": "fcd4f019-dd59-4bf0-8096-bb1454ecd9c3"
      },
      "execution_count": 10,
      "outputs": [
        {
          "output_type": "stream",
          "name": "stdout",
          "text": [
            "[array([[1.7982056]], dtype=float32), array([31.922497], dtype=float32)]\n"
          ]
        }
      ]
    },
    {
      "cell_type": "code",
      "source": [
        "(-10*1.7982056)+31.922497"
      ],
      "metadata": {
        "colab": {
          "base_uri": "https://localhost:8080/"
        },
        "id": "NygOk6ReAA6f",
        "outputId": "1c2ee401-ce6a-4ad9-ef39-1eba34ed77e1"
      },
      "execution_count": 20,
      "outputs": [
        {
          "output_type": "execute_result",
          "data": {
            "text/plain": [
              "13.940441"
            ]
          },
          "metadata": {},
          "execution_count": 20
        }
      ]
    },
    {
      "cell_type": "code",
      "source": [
        "#Que oasa si ahora resolvemos el mismo problema pero agregando mas capas y mas neuronaas a la red.\n",
        "\n",
        "oculta1 = tf.keras.layers.Dense(units = 3, input_shape=[1])\n",
        "oculta2 = tf.keras.layers.Dense(units= 3)\n",
        "salida= tf.keras.layers.Dense(units=1)\n",
        "modelo=tf.keras.Sequential([oculta1, oculta2, salida])\n"
      ],
      "metadata": {
        "id": "EMm1NWWX5lg8"
      },
      "execution_count": 12,
      "outputs": []
    },
    {
      "cell_type": "code",
      "source": [
        "modelo.compile(\n",
        "    optimizer=tf.keras.optimizers.Adam(0.1),\n",
        "    loss='mean_squared_error'\n",
        ")"
      ],
      "metadata": {
        "id": "4At2amZK8kkx"
      },
      "execution_count": 13,
      "outputs": []
    },
    {
      "cell_type": "code",
      "source": [
        "#Hacemos el entrenamiento\n",
        "print(\"comenzand entrenamiento...\")\n",
        "historial = modelo.fit(celsius, fahrenheit, epochs=1000, verbose=False)\n",
        "print(\"Modelo entrenado!\")"
      ],
      "metadata": {
        "colab": {
          "base_uri": "https://localhost:8080/"
        },
        "id": "yA4-MorE8yy-",
        "outputId": "5d321f53-7d2c-4492-c73a-15971676aac0"
      },
      "execution_count": 14,
      "outputs": [
        {
          "output_type": "stream",
          "name": "stdout",
          "text": [
            "comenzand entrenamiento...\n",
            "Modelo entrenado!\n"
          ]
        }
      ]
    },
    {
      "cell_type": "code",
      "source": [
        "import matplotlib.pyplot as plt\n",
        "plt.xlabel(\"# Epoca\")\n",
        "plt.ylabel(\"Magnitud de pérdida\")\n",
        "plt.plot(historial.history[\"loss\"])"
      ],
      "metadata": {
        "colab": {
          "base_uri": "https://localhost:8080/",
          "height": 466
        },
        "id": "jH78vHWL9FpA",
        "outputId": "75aee802-5153-421f-ae4a-cbc27a1b3083"
      },
      "execution_count": 15,
      "outputs": [
        {
          "output_type": "execute_result",
          "data": {
            "text/plain": [
              "[<matplotlib.lines.Line2D at 0x7e0e28a61f30>]"
            ]
          },
          "metadata": {},
          "execution_count": 15
        },
        {
          "output_type": "display_data",
          "data": {
            "text/plain": [
              "<Figure size 640x480 with 1 Axes>"
            ],
            "image/png": "[encoded data removed]"
          },
          "metadata": {}
        }
      ]
    },
    {
      "cell_type": "code",
      "source": [
        "#hacemos la prediccion (nota: vemos que el error disminuye mucho mas rapido, por tanto al parecer es una mejor red neuronal)\n",
        "print(\"Hagamos una predicción!\")\n",
        "resultado = modelo.predict([100.0])\n",
        "print(\"El resultado es\" + str(resultado) + \"fahrenheit!\")"
      ],
      "metadata": {
        "colab": {
          "base_uri": "https://localhost:8080/"
        },
        "id": "tC8zH2XZ9Znj",
        "outputId": "2437372e-93f9-4225-fe72-4c07ebbf171b"
      },
      "execution_count": 16,
      "outputs": [
        {
          "output_type": "stream",
          "name": "stdout",
          "text": [
            "Hagamos una predicción!\n",
            "1/1 [==============================] - 0s 70ms/step\n",
            "El resultado es[[211.74739]]fahrenheit!\n"
          ]
        }
      ]
    },
    {
      "cell_type": "code",
      "source": [
        "# Que pesos y sesgo se ha asignado?\n",
        "print(\"Variables internas del modelo\")\n",
        "#print(capa.get_weights)\n",
        "print(oculta1.get_weights())\n",
        "print(oculta2.get_weights())\n",
        "print(salida.get_weights())"
      ],
      "metadata": {
        "colab": {
          "base_uri": "https://localhost:8080/"
        },
        "id": "pESp7afX92AK",
        "outputId": "a5cbac14-c70a-45a2-defc-2f43f1813972"
      },
      "execution_count": 17,
      "outputs": [
        {
          "output_type": "stream",
          "name": "stdout",
          "text": [
            "Variables internas del modelo\n",
            "[array([[ 0.79065377, -0.3879482 ,  0.24494638]], dtype=float32), array([ 3.9224882, -3.8544989, -1.6150243], dtype=float32)]\n",
            "[array([[-0.14429799, -1.232413  , -0.33440584],\n",
            "       [ 0.2610466 ,  1.192374  , -0.30726957],\n",
            "       [ 0.7988295 ,  0.33224717, -0.99302626]], dtype=float32), array([-3.5052555, -3.752142 ,  3.2549114], dtype=float32)]\n",
            "[array([[-0.70278937],\n",
            "       [-1.5070803 ],\n",
            "       [ 0.6665287 ]], dtype=float32), array([3.64845], dtype=float32)]\n"
          ]
        }
      ]
    }
  ]
}